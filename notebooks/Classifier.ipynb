{
 "cells": [
  {
   "cell_type": "code",
   "execution_count": 5,
   "id": "8e038f0a",
   "metadata": {},
   "outputs": [],
   "source": [
    "import numpy\n",
    "import wfdb\n",
    "from sklearn.linear_model import Ridge\n"
   ]
  },
  {
   "cell_type": "code",
   "execution_count": 7,
   "id": "7fc8485f",
   "metadata": {},
   "outputs": [],
   "source": [
    "sample = wfdb.rdsamp('data/sleep-heart-health-study-psg-database-1.0.0/0000')"
   ]
  },
  {
   "cell_type": "code",
   "execution_count": 10,
   "id": "a0db0447",
   "metadata": {},
   "outputs": [
    {
     "data": {
      "text/plain": [
       "(32399, 11)"
      ]
     },
     "execution_count": 10,
     "metadata": {},
     "output_type": "execute_result"
    }
   ],
   "source": [
    "sample[0].shape"
   ]
  },
  {
   "cell_type": "code",
   "execution_count": 4,
   "id": "df5ddc3f",
   "metadata": {},
   "outputs": [],
   "source": [
    "clf = Ridge()"
   ]
  },
  {
   "cell_type": "code",
   "execution_count": null,
   "id": "1be4d453",
   "metadata": {},
   "outputs": [],
   "source": []
  }
 ],
 "metadata": {
  "kernelspec": {
   "display_name": "Python 3",
   "language": "python",
   "name": "python3"
  },
  "language_info": {
   "codemirror_mode": {
    "name": "ipython",
    "version": 3
   },
   "file_extension": ".py",
   "mimetype": "text/x-python",
   "name": "python",
   "nbconvert_exporter": "python",
   "pygments_lexer": "ipython3",
   "version": "3.8.8"
  }
 },
 "nbformat": 4,
 "nbformat_minor": 5
}
